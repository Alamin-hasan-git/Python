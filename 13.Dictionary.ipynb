{
 "cells": [
  {
   "cell_type": "markdown",
   "id": "55284cd8-4a35-4083-b975-861f2b1e55b9",
   "metadata": {},
   "source": [
    "# What is Dictionary\n",
    ">Dictionary is a collection of python, which works on Key and Value pair.\n",
    ">\n",
    ">Dictionary follows the orderd container or collection\n",
    ">\n",
    ">Dictionary has immutable key and value could be immutable and mutable both which depends upon what value are storing.\n"
   ]
  },
  {
   "cell_type": "markdown",
   "id": "b2505b32-5c88-4637-98f4-42de9c8245fe",
   "metadata": {},
   "source": [
    "## What can be done?\n",
    ">Creating Dictionary\n",
    ">\n",
    ">Indexing and Slicing\n",
    ">\n",
    ">Dictionary Methods"
   ]
  },
  {
   "cell_type": "markdown",
   "id": "20b36240-7ba5-4e65-aa94-bbf23ba283b5",
   "metadata": {},
   "source": [
    "## Creating a Dictionary"
   ]
  },
  {
   "cell_type": "code",
   "execution_count": 3,
   "id": "92ef6172-2957-4f07-954c-65916eea70bf",
   "metadata": {},
   "outputs": [
    {
     "name": "stdout",
     "output_type": "stream",
     "text": [
      "{1: 'Apple', 2: 'Mango', 3: 'Orange', 4: 'Apple', 'a': 'b'}\n"
     ]
    }
   ],
   "source": [
    "d1 = {1:\"Apple\",2:\"Mango\",3:\"Orange\",4:\"Apple\",'a':'b'} #{key : Value}\n",
    "print(d1)"
   ]
  },
  {
   "cell_type": "markdown",
   "id": "816e1f49-da99-46fe-a2a9-cae021b78b91",
   "metadata": {},
   "source": [
    "## List into Dictionary Stroe"
   ]
  },
  {
   "cell_type": "code",
   "execution_count": 2,
   "id": "57a8e1da-6e8b-4b88-896f-f461123162c8",
   "metadata": {},
   "outputs": [
    {
     "name": "stdout",
     "output_type": "stream",
     "text": [
      "{1: 'Python', 2: 'Java', 3: ['C', 'C++', 'Dart']}\n"
     ]
    }
   ],
   "source": [
    "# Storing a list into Dictionary on a single key\n",
    "d2 = {1:\"Python\",2:\"Java\",3:[\"C\",\"C++\",\"Dart\"]}\n",
    "print(d2)"
   ]
  },
  {
   "cell_type": "markdown",
   "id": "be258a40-29b1-4911-92de-28f27aaafa72",
   "metadata": {},
   "source": [
    "## Tuple into Dictionary Store"
   ]
  },
  {
   "cell_type": "code",
   "execution_count": 5,
   "id": "21acbddb-b6c2-4056-8efb-7c124de12dea",
   "metadata": {},
   "outputs": [
    {
     "name": "stdout",
     "output_type": "stream",
     "text": [
      "{1: 'Python', 2: 'Java', 'language': ('C', 'C++', 'Dart')}\n"
     ]
    }
   ],
   "source": [
    "# Storing a tuple into Dictionary on a single key\n",
    "d3 = {1:\"Python\",2:\"Java\",\"language\":(\"C\",\"C++\",\"Dart\")}\n",
    "print(d3)"
   ]
  },
  {
   "cell_type": "markdown",
   "id": "19c82d70-f63d-486b-a341-a6a213b13cf6",
   "metadata": {},
   "source": [
    "## Access the value of Dictionary"
   ]
  },
  {
   "cell_type": "code",
   "execution_count": 8,
   "id": "5aa9958b-4403-4ac7-a16a-c68a9530ceca",
   "metadata": {},
   "outputs": [
    {
     "name": "stdout",
     "output_type": "stream",
     "text": [
      "Current Dictionary: {1: 'Python', 2: 'Java', 'language': ('C', 'C++', 'Dart')}\n",
      "Java\n",
      "('C', 'C++', 'Dart')\n",
      "dict_items([(1, 'Python'), (2, 'Java'), ('language', ('C', 'C++', 'Dart'))])\n",
      "Keys:  dict_keys([1, 2, 'language'])\n"
     ]
    }
   ],
   "source": [
    "d3 = {1:\"Python\",2:\"Java\",\"language\":(\"C\",\"C++\",\"Dart\")}\n",
    "print(\"Current Dictionary:\",d3)\n",
    "\n",
    "#Access the value using Key\n",
    "x = d3[2]\n",
    "print(x)\n",
    "\n",
    "#Access the value using get()\n",
    "y = d3.get(\"language\")\n",
    "print(y)\n",
    "\n",
    "#Access the value using item()\n",
    "z = d3.items()\n",
    "print(z)\n",
    "\n",
    "#Access the only kyes from dictionary\n",
    "k = d3.keys()\n",
    "print(\"Keys: \",k)"
   ]
  },
  {
   "cell_type": "markdown",
   "id": "ebe092dd-4e21-40d3-917e-7e3f62c7902a",
   "metadata": {},
   "source": [
    "## Change the Value"
   ]
  },
  {
   "cell_type": "code",
   "execution_count": 3,
   "id": "3497b445-d865-49c2-a327-e910c02a7048",
   "metadata": {},
   "outputs": [
    {
     "name": "stdout",
     "output_type": "stream",
     "text": [
      "Current Dictionary: {1: 'Python', 2: 'Java', 'language': ('C', 'C++', 'Dart')}\n",
      "Updated Dictionary: {1: 'Python', 2: 'Swift', 'language': ('C', 'C++', 'Dart')}\n",
      "{1: 'Python', 2: 'Swift', 'language': ('C', 'C++', 'Dart'), 3: 'languages'}\n"
     ]
    }
   ],
   "source": [
    "d3 = {1:\"Python\",2:\"Java\",\"language\":(\"C\",\"C++\",\"Dart\")}\n",
    "print(\"Current Dictionary:\",d3)\n",
    "\n",
    "#Changing value\n",
    "d3[2]=\"Swift\"\n",
    "print(\"Updated Dictionary:\",d3)\n",
    "\n",
    "#Update dictionary by update()\n",
    "d3.update({3:'languages'})\n",
    "print(d3)"
   ]
  },
  {
   "cell_type": "markdown",
   "id": "ab4b7f66-c8ce-4544-a02c-6e70025bb45b",
   "metadata": {},
   "source": [
    "## Remove valus from dictionary"
   ]
  },
  {
   "cell_type": "code",
   "execution_count": 7,
   "id": "cb4ffc2a-5e78-403c-ac06-a8dc57d80961",
   "metadata": {},
   "outputs": [
    {
     "name": "stdout",
     "output_type": "stream",
     "text": [
      "Current Dictionary:  {1: 'Python', 2: 'Java', 'language': ('C', 'C++', 'Dart')}\n",
      "Updated Dictionary:  {1: 'Python', 'language': ('C', 'C++', 'Dart')}\n",
      "Updated Dictionary:  {1: 'Python'}\n"
     ]
    }
   ],
   "source": [
    "# using pop() for removing particular values\n",
    "d1 = {1:\"Python\",2:\"Java\",\"language\":(\"C\",\"C++\",\"Dart\")}\n",
    "print(\"Current Dictionary: \",d1)\n",
    "d1.pop(2)\n",
    "print(\"Updated Dictionary: \",d1)\n",
    "\n",
    "# using pop item() for removing last value\n",
    "d1.popitem()\n",
    "print(\"Updated Dictionary: \",d1)"
   ]
  }
 ],
 "metadata": {
  "kernelspec": {
   "display_name": "Python 3 (ipykernel)",
   "language": "python",
   "name": "python3"
  },
  "language_info": {
   "codemirror_mode": {
    "name": "ipython",
    "version": 3
   },
   "file_extension": ".py",
   "mimetype": "text/x-python",
   "name": "python",
   "nbconvert_exporter": "python",
   "pygments_lexer": "ipython3",
   "version": "3.13.7"
  }
 },
 "nbformat": 4,
 "nbformat_minor": 5
}
