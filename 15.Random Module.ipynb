{
 "cells": [
  {
   "cell_type": "markdown",
   "id": "4f0b7116-c2c4-47ff-a953-2bdcadcb044f",
   "metadata": {},
   "source": [
    "# Random Module \n",
    "Python provide multiple inbuilt function that are used to choose or generate random number by using random module"
   ]
  },
  {
   "cell_type": "markdown",
   "id": "9f297d0b-54aa-43a7-b0c8-0d331204ad1c",
   "metadata": {},
   "source": [
    "# Random Number Operation"
   ]
  },
  {
   "cell_type": "markdown",
   "id": "af374c36-aaf0-43e4-9899-9e74a9ad9bce",
   "metadata": {},
   "source": [
    "• Choice() : choice() is inbuilt function of random module, which is\n",
    "used to return random number from list, tuple, set.\n",
    "    \n",
    "• Randint() ; randint() is inbuilt function Of random module, Which is\n",
    "used to generate random number from particular given range.\n",
    "\n",
    "• Shuffle() shuffle() is inbuilt function of random module, which is\n",
    "used to shuffle a value of list."
   ]
  },
  {
   "cell_type": "markdown",
   "id": "09c6fc2e-421b-4de0-bfec-ef84c610615c",
   "metadata": {},
   "source": [
    "# Import random "
   ]
  },
  {
   "cell_type": "code",
   "execution_count": 1,
   "id": "f69edec5-3a34-4ca7-aeb5-11af362059c7",
   "metadata": {},
   "outputs": [],
   "source": [
    "# from random import functionname\n",
    "\n",
    "# import random"
   ]
  },
  {
   "cell_type": "markdown",
   "id": "fd805782-0887-454d-8c68-04bde300c81c",
   "metadata": {},
   "source": [
    "# Choice()"
   ]
  },
  {
   "cell_type": "code",
   "execution_count": 10,
   "id": "c99d5a9e-2443-4cf0-b4d8-1186c356ecfc",
   "metadata": {},
   "outputs": [
    {
     "name": "stdout",
     "output_type": "stream",
     "text": [
      "2\n"
     ]
    }
   ],
   "source": [
    "from random import choice\n",
    "l1 = [1,2,3,4,5,6]\n",
    "print(choice(l1))\n"
   ]
  },
  {
   "cell_type": "markdown",
   "id": "6e2512c2-a6b6-4dc3-a699-775f11aa56ee",
   "metadata": {},
   "source": [
    "# Randint()\n",
    ">This function is used for OTP generation"
   ]
  },
  {
   "cell_type": "code",
   "execution_count": 23,
   "id": "6ae3e4d1-39c2-49f1-bb6a-7ced64e097f0",
   "metadata": {},
   "outputs": [
    {
     "name": "stdout",
     "output_type": "stream",
     "text": [
      "Yout Otp:  80706\n"
     ]
    }
   ],
   "source": [
    "from random import randint\n",
    "\n",
    "otp = randint(10000,99999)\n",
    "print(\"Yout Otp: \",otp)"
   ]
  },
  {
   "cell_type": "markdown",
   "id": "2ab13f38-f3a2-43e8-a2f5-c6824163117a",
   "metadata": {},
   "source": [
    "# Shuffle()"
   ]
  },
  {
   "cell_type": "code",
   "execution_count": null,
   "id": "8dc89b7b-fff7-4285-9f1c-a442adf0909f",
   "metadata": {},
   "outputs": [],
   "source": [
    "from random import shuffle\n"
   ]
  }
 ],
 "metadata": {
  "kernelspec": {
   "display_name": "Python 3 (ipykernel)",
   "language": "python",
   "name": "python3"
  },
  "language_info": {
   "codemirror_mode": {
    "name": "ipython",
    "version": 3
   },
   "file_extension": ".py",
   "mimetype": "text/x-python",
   "name": "python",
   "nbconvert_exporter": "python",
   "pygments_lexer": "ipython3",
   "version": "3.13.7"
  }
 },
 "nbformat": 4,
 "nbformat_minor": 5
}
