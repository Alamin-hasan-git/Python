{
 "cells": [
  {
   "cell_type": "markdown",
   "id": "c9fb8e25-bd4e-4613-91aa-1dd80730c2fc",
   "metadata": {},
   "source": [
    "# Python Lists\n",
    ">List is collection in python, which store the data into sequence.\n",
    "\n",
    ">List is mutable(Changeable at runtime) data structure."
   ]
  },
  {
   "cell_type": "markdown",
   "id": "0bc107ba-c5de-44ad-96a8-7f33b31e7b33",
   "metadata": {},
   "source": [
    "### What can be done?\n",
    ">Create list\n",
    ">\n",
    ">Indexing and Slicing\n",
    ">\n",
    ">Apply built-in methods\n",
    ">\n",
    ">Nested list"
   ]
  },
  {
   "cell_type": "markdown",
   "id": "6a9086c6-27f4-4492-9699-d6b6b9cc2f19",
   "metadata": {},
   "source": [
    "## Creating a List"
   ]
  },
  {
   "cell_type": "code",
   "execution_count": 1,
   "id": "bac30383-0685-4f76-bb85-6de7bcd69232",
   "metadata": {},
   "outputs": [
    {
     "name": "stdout",
     "output_type": "stream",
     "text": [
      "Integer list:  [1, 2, 3, 4, 5]\n",
      "String list:  ['Apple', 'Mango', 'litchi']\n"
     ]
    }
   ],
   "source": [
    "# this list store integer values\n",
    "l1 = [1,2,3,4,5] \n",
    "\n",
    "# this list store string values\n",
    "l2 = [\"Apple\",\"Mango\",\"litchi\"]\n",
    "\n",
    "print(\"Integer list: \",l1)\n",
    "print(\"String list: \",l2)"
   ]
  },
  {
   "cell_type": "markdown",
   "id": "d344dd15-c029-4a84-894f-ebb0da1a0224",
   "metadata": {},
   "source": [
    "## List Constructor"
   ]
  },
  {
   "cell_type": "code",
   "execution_count": 2,
   "id": "4e2c889f-9f76-4202-9221-70efbc7810ae",
   "metadata": {},
   "outputs": [
    {
     "name": "stdout",
     "output_type": "stream",
     "text": [
      "['dog', 'cat', 'cow']\n"
     ]
    }
   ],
   "source": [
    "l1 = list((\"dog\",\"cat\",\"cow\")) #there is double brackets\n",
    "print(l1)"
   ]
  },
  {
   "cell_type": "markdown",
   "id": "a8227a53-0734-4b6f-a80c-aa9a5a22894f",
   "metadata": {},
   "source": [
    "## List Slicing"
   ]
  },
  {
   "cell_type": "code",
   "execution_count": 9,
   "id": "052cefe8-27de-480c-998a-dc24276583ed",
   "metadata": {},
   "outputs": [
    {
     "name": "stdout",
     "output_type": "stream",
     "text": [
      "Current list:  [1, 2, 3, 4, 5, 6, 7, 8, 9, 10]\n",
      "value of index 1:  2\n",
      "value of index 1 to 6: [2, 3, 4, 5, 6]\n",
      "Index till 6:  [1, 2, 3, 4, 5, 6]\n",
      "Last value:  10\n",
      "Access the next value after two values:  [2, 4, 6, 8]\n"
     ]
    }
   ],
   "source": [
    "l1 = [1,2,3,4,5,6,7,8,9,10]\n",
    "print(\"Current list: \",l1)\n",
    "\n",
    "#Access the value of index 1\n",
    "print(\"value of index 1: \",l1[1])\n",
    "\n",
    "#Access the value between index 1 to 6\n",
    "print(\"value of index 1 to 6:\",l1[1:6])\n",
    "\n",
    "#Access the value till index 6\n",
    "print(\"Index till 6: \",l1[:6])\n",
    "\n",
    "#Access the last value from index\n",
    "print(\"Last value: \",l1[-1])\n",
    "\n",
    "#Access the next value after two values at an index\n",
    "print(\"Access the next value after two values: \",l1[1:8:2])"
   ]
  },
  {
   "cell_type": "markdown",
   "id": "7f9a0b19-adb6-444d-88a1-4ecf0e96b308",
   "metadata": {},
   "source": [
    "## List item change "
   ]
  },
  {
   "cell_type": "code",
   "execution_count": 15,
   "id": "0f4bbe90-045c-4a19-86c4-63017ef8b447",
   "metadata": {},
   "outputs": [
    {
     "name": "stdout",
     "output_type": "stream",
     "text": [
      "Original list:  ['python', 'java', 'c', 'C++', 'Dart']\n",
      "Updated list:  ['python', 'rust', 'swift', 'c#', 'C++', 'Dart']\n"
     ]
    }
   ],
   "source": [
    "l1 = [\"python\",\"java\",\"c\",\"C++\",\"Dart\"]\n",
    "print(\"Original list: \",l1)\n",
    "\n",
    "#change the item in list\n",
    "l1[1:3] = [\"rust\",\"swift\",\"c#\"]\n",
    "print(\"Updated list: \",l1)"
   ]
  },
  {
   "cell_type": "markdown",
   "id": "7fb396a2-2fb3-4a60-a32b-c9d5fc5edd2a",
   "metadata": {},
   "source": [
    "# Insert into List"
   ]
  },
  {
   "cell_type": "code",
   "execution_count": null,
   "id": "71920692-40bd-4046-ab79-88eed8a6761b",
   "metadata": {},
   "outputs": [],
   "source": [
    "l1 = [1,2,3,4,5,6]\n",
    "print(\"Original list: \",l1)\n",
    "\n",
    "#updating the list using insert method\n",
    "l1.insert(2,\"Python\") #insert(value of index,updated value)\n",
    "print(\"Updated list: \",l1)"
   ]
  },
  {
   "cell_type": "markdown",
   "id": "de98496d-4658-4559-8abe-e350a78cad22",
   "metadata": {},
   "source": [
    "## Extend the List"
   ]
  },
  {
   "cell_type": "code",
   "execution_count": 4,
   "id": "7760f430-2011-4b7c-b08b-3ede776609f4",
   "metadata": {},
   "outputs": [
    {
     "name": "stdout",
     "output_type": "stream",
     "text": [
      "[1, 2, 3, 4, 5, 6, 'Python', 'java', 'c++']\n",
      "['Python', 'java', 'c++', 1, 2, 3, 4, 5, 6, 'Python', 'java', 'c++']\n"
     ]
    }
   ],
   "source": [
    "l1 = [1,2,3,4,5,6]\n",
    "l2 = [\"Python\",\"java\",\"c++\"]\n",
    "\n",
    "#extending the list of l2 into list of l1\n",
    "l1.extend(l2)\n",
    "print(l1)\n",
    "\n",
    "#extending the list of l1 into list of l2\n",
    "l2.extend(l1)\n",
    "print(l2)"
   ]
  },
  {
   "cell_type": "markdown",
   "id": "30c63c9c-b50d-4b12-b694-f6dbe07f31c1",
   "metadata": {},
   "source": [
    "## Remove item from List"
   ]
  },
  {
   "cell_type": "code",
   "execution_count": 9,
   "id": "50d45ec0-b782-4c35-8049-46528820d328",
   "metadata": {},
   "outputs": [
    {
     "name": "stdout",
     "output_type": "stream",
     "text": [
      "Current list:  [1, 2, 3, 4, 5]\n",
      "After removing element 4:  [1, 2, 3, 5]\n"
     ]
    }
   ],
   "source": [
    "# remove() : this method is used to remove element from list\n",
    "l1 = [1,2,3,4,5,6,7]\n",
    "print(\"Current list: \",l1)\n",
    "l1.remove(4)\n",
    "print(\"After removing element 4: \",l1)\n"
   ]
  },
  {
   "cell_type": "code",
   "execution_count": 11,
   "id": "c42e5d51-30d9-4348-9511-b4014ee44afe",
   "metadata": {},
   "outputs": [
    {
     "name": "stdout",
     "output_type": "stream",
     "text": [
      "Current list:  [1, 2, 3, 4, 5, 6, 7]\n",
      "Updated list:  [1, 2, 3, 4, 5, 6]\n"
     ]
    }
   ],
   "source": [
    "# pop() : this method is used to remove last value from list\n",
    "l1 = [1,2,3,4,5,6,7]\n",
    "print(\"Current list: \",l1)\n",
    "\n",
    "#remove item using pop method\n",
    "l1.pop()\n",
    "print(\"Updated list: \",l1)"
   ]
  },
  {
   "cell_type": "code",
   "execution_count": 12,
   "id": "cf307448-ddf4-4bb8-ac0a-d42f433e2dc8",
   "metadata": {},
   "outputs": [
    {
     "name": "stdout",
     "output_type": "stream",
     "text": [
      "Current list:  [1, 2, 3, 4, 5, 6, 7]\n",
      "Updated list:  [1, 2, 4, 5, 6, 7]\n"
     ]
    }
   ],
   "source": [
    "# del() : this method is used to remove item from the index\n",
    "l1 = [1,2,3,4,5,6,7]\n",
    "print(\"Current list: \",l1)\n",
    "\n",
    "#remove item using del method\n",
    "del l1[2]\n",
    "print(\"Updated list: \",l1)"
   ]
  },
  {
   "cell_type": "code",
   "execution_count": 13,
   "id": "efc7dde9-7c2a-4d65-8bd0-1852caec6242",
   "metadata": {},
   "outputs": [
    {
     "name": "stdout",
     "output_type": "stream",
     "text": [
      "Current list:  [1, 2, 3, 4, 5, 6, 7]\n",
      "Updated list:  []\n"
     ]
    }
   ],
   "source": [
    "# clear() : this method is used to clear the list\n",
    "l1 = [1,2,3,4,5,6,7]\n",
    "print(\"Current list: \",l1)\n",
    "\n",
    "#remove all items using clear method\n",
    "l1.clear()\n",
    "print(\"Updated list: \",l1)"
   ]
  }
 ],
 "metadata": {
  "kernelspec": {
   "display_name": "Python 3 (ipykernel)",
   "language": "python",
   "name": "python3"
  },
  "language_info": {
   "codemirror_mode": {
    "name": "ipython",
    "version": 3
   },
   "file_extension": ".py",
   "mimetype": "text/x-python",
   "name": "python",
   "nbconvert_exporter": "python",
   "pygments_lexer": "ipython3",
   "version": "3.13.7"
  }
 },
 "nbformat": 4,
 "nbformat_minor": 5
}
