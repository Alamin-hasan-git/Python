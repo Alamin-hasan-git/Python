{
 "cells": [
  {
   "cell_type": "markdown",
   "id": "bfb91507-9df8-470c-a4eb-83fbb5d85b60",
   "metadata": {},
   "source": [
    "# What is Exception Handling?\n",
    ">Exception means the abnormal situation occurs at run time and stop the execution of program is called exception.\n",
    ">\n",
    ">In python two types of error:\n",
    "\n",
    "           1.Syntax Error --> As the name suggest this error is caused by wrong syntax in\n",
    "                              the code. It leads to the termination Of the prc•gram.\n",
    "\n",
    "           2.Exception -----> Exceptions are raised when the program is syntactically correct\n",
    "                              but the code resulted in an error. This error does not Stop the\n",
    "                              execution of the program, however, it changes the normal flow\n",
    "                              Of the program."
   ]
  },
  {
   "cell_type": "markdown",
   "id": "85bb0ce4-40d0-4d09-8469-f1bf7953830a",
   "metadata": {},
   "source": [
    " # Exception Create"
   ]
  },
  {
   "cell_type": "code",
   "execution_count": 2,
   "id": "81f86a19-eb56-4566-80ed-f31208ea1deb",
   "metadata": {},
   "outputs": [
    {
     "name": "stdin",
     "output_type": "stream",
     "text": [
      "Enter the value of A:  python\n"
     ]
    },
    {
     "ename": "ValueError",
     "evalue": "invalid literal for int() with base 10: 'python'",
     "output_type": "error",
     "traceback": [
      "\u001b[31m---------------------------------------------------------------------------\u001b[39m",
      "\u001b[31mValueError\u001b[39m                                Traceback (most recent call last)",
      "\u001b[36mCell\u001b[39m\u001b[36m \u001b[39m\u001b[32mIn[2]\u001b[39m\u001b[32m, line 1\u001b[39m\n\u001b[32m----> \u001b[39m\u001b[32m1\u001b[39m a = \u001b[38;5;28;43mint\u001b[39;49m\u001b[43m(\u001b[49m\u001b[38;5;28;43minput\u001b[39;49m\u001b[43m(\u001b[49m\u001b[33;43m\"\u001b[39;49m\u001b[33;43mEnter the value of A: \u001b[39;49m\u001b[33;43m\"\u001b[39;49m\u001b[43m)\u001b[49m\u001b[43m)\u001b[49m\n\u001b[32m      2\u001b[39m \u001b[38;5;28mprint\u001b[39m(\u001b[33m\"\u001b[39m\u001b[33mA:\u001b[39m\u001b[33m\"\u001b[39m,a)\n",
      "\u001b[31mValueError\u001b[39m: invalid literal for int() with base 10: 'python'"
     ]
    }
   ],
   "source": [
    "a = int(input(\"Enter the value of A: \"))\n",
    "print(\"A:\",a)\n",
    "# We got a wrong input by the user\n",
    "print(\"Bye\")"
   ]
  },
  {
   "cell_type": "code",
   "execution_count": 3,
   "id": "648930ea-5e50-4b4e-b12d-33238c495920",
   "metadata": {},
   "outputs": [
    {
     "name": "stdin",
     "output_type": "stream",
     "text": [
      "Enter the value of A:  10\n",
      "Enter the value of B:  0\n"
     ]
    },
    {
     "ename": "ZeroDivisionError",
     "evalue": "division by zero",
     "output_type": "error",
     "traceback": [
      "\u001b[31m---------------------------------------------------------------------------\u001b[39m",
      "\u001b[31mZeroDivisionError\u001b[39m                         Traceback (most recent call last)",
      "\u001b[36mCell\u001b[39m\u001b[36m \u001b[39m\u001b[32mIn[3]\u001b[39m\u001b[32m, line 4\u001b[39m\n\u001b[32m      1\u001b[39m a = \u001b[38;5;28mint\u001b[39m(\u001b[38;5;28minput\u001b[39m(\u001b[33m\"\u001b[39m\u001b[33mEnter the value of A: \u001b[39m\u001b[33m\"\u001b[39m))\n\u001b[32m      2\u001b[39m b = \u001b[38;5;28mint\u001b[39m(\u001b[38;5;28minput\u001b[39m(\u001b[33m\"\u001b[39m\u001b[33mEnter the value of B: \u001b[39m\u001b[33m\"\u001b[39m))\n\u001b[32m----> \u001b[39m\u001b[32m4\u001b[39m c = \u001b[43ma\u001b[49m\u001b[43m/\u001b[49m\u001b[43mb\u001b[49m\n\u001b[32m      5\u001b[39m \u001b[38;5;28mprint\u001b[39m(\u001b[33m\"\u001b[39m\u001b[33mAnswer:\u001b[39m\u001b[33m\"\u001b[39m,c)\n",
      "\u001b[31mZeroDivisionError\u001b[39m: division by zero"
     ]
    }
   ],
   "source": [
    "a = int(input(\"Enter the value of A: \"))\n",
    "b = int(input(\"Enter the value of B: \"))\n",
    "\n",
    "c = a/b #Zero Division Exception occur   \n",
    "print(\"Answer:\",c)"
   ]
  },
  {
   "cell_type": "markdown",
   "id": "4a6d21a0-a208-4dfd-9133-e54e0066a49a",
   "metadata": {},
   "source": [
    "# Handle the Exception"
   ]
  },
  {
   "cell_type": "code",
   "execution_count": 8,
   "id": "6bc804b2-b5a0-4354-815a-af058dd60664",
   "metadata": {},
   "outputs": [
    {
     "name": "stdin",
     "output_type": "stream",
     "text": [
      "Enter the value of A:  10\n",
      "Enter the value of B:  0\n"
     ]
    },
    {
     "name": "stdout",
     "output_type": "stream",
     "text": [
      "Exception caught:  division by zero\n"
     ]
    }
   ],
   "source": [
    "try:\n",
    "# The code which is written in \"try block\" can be occur at runtime\n",
    "    a = int(input(\"Enter the value of A: \"))\n",
    "    b = int(input(\"Enter the value of B: \"))\n",
    "\n",
    "    c = a/b #Zero Division Exception occur   \n",
    "    print(\"Answer:\",c)\n",
    "except Exception as e:\n",
    "    #This block will run when exception occur\n",
    "    print(\"Exception caught: \",e)"
   ]
  },
  {
   "cell_type": "markdown",
   "id": "989e1718-7f53-4ffe-901e-5f84eddd4cfe",
   "metadata": {},
   "source": [
    "# Many Exception Handling\n"
   ]
  },
  {
   "cell_type": "code",
   "execution_count": null,
   "id": "d2b32bda-9177-46a8-9af1-ec7b73be71b7",
   "metadata": {},
   "outputs": [],
   "source": []
  }
 ],
 "metadata": {
  "kernelspec": {
   "display_name": "Python 3 (ipykernel)",
   "language": "python",
   "name": "python3"
  },
  "language_info": {
   "codemirror_mode": {
    "name": "ipython",
    "version": 3
   },
   "file_extension": ".py",
   "mimetype": "text/x-python",
   "name": "python",
   "nbconvert_exporter": "python",
   "pygments_lexer": "ipython3",
   "version": "3.13.7"
  }
 },
 "nbformat": 4,
 "nbformat_minor": 5
}
