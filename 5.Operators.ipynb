{
 "cells": [
  {
   "cell_type": "markdown",
   "id": "8e84975e-4c9f-46db-9665-f0a0e0f6b45a",
   "metadata": {},
   "source": [
    "# Operators"
   ]
  },
  {
   "cell_type": "markdown",
   "id": "b7283bdf-136e-47b9-9804-c2b1d57d35a6",
   "metadata": {},
   "source": [
    "> Operators are used to perform operations on variables and values in python"
   ]
  },
  {
   "cell_type": "markdown",
   "id": "edf902c4-4465-481c-a51d-4266ce2b02b0",
   "metadata": {},
   "source": [
    "# Types of Operators"
   ]
  },
  {
   "cell_type": "markdown",
   "id": "33f0d5e1-849b-4dca-9481-219022798ffa",
   "metadata": {},
   "source": [
    ">Arithmetic Operator\n",
    ">Assignment Operator\n",
    ">Comparsion Operator\n",
    ">Logical Operator\n",
    ">Identity Operator\n",
    ">Membership Operator"
   ]
  },
  {
   "cell_type": "markdown",
   "id": "e94a5721-f398-4c5d-863f-8fc060b8e8a8",
   "metadata": {},
   "source": [
    "# Arithmetic Operators"
   ]
  },
  {
   "cell_type": "code",
   "execution_count": 4,
   "id": "5990cc13-1f2c-4755-a165-4c548ddf5306",
   "metadata": {},
   "outputs": [
    {
     "name": "stdout",
     "output_type": "stream",
     "text": [
      "30\n",
      "10\n",
      "60\n",
      "4.0\n"
     ]
    }
   ],
   "source": [
    "# Addition operator\n",
    "a = 10\n",
    "b = 20\n",
    "c = a+b\n",
    "print(c)\n",
    "\n",
    "#Subtraction operator\n",
    "a = 20\n",
    "b = 10\n",
    "c = a-b\n",
    "print(c)\n",
    "\n",
    "#Multiplication operator\n",
    "a = 15\n",
    "b = 4\n",
    "c = a*b\n",
    "print(c)\n",
    "\n",
    "#Division operator\n",
    "a = 20\n",
    "b = 5\n",
    "c = a/b\n",
    "print(c)\n"
   ]
  },
  {
   "cell_type": "markdown",
   "id": "071ded24-2f20-4a33-8703-aef38d83f930",
   "metadata": {},
   "source": [
    "# Assignment Operator"
   ]
  },
  {
   "cell_type": "code",
   "execution_count": 7,
   "id": "fe30a0cc-b15e-45ca-af29-371e9978f6d1",
   "metadata": {},
   "outputs": [
    {
     "name": "stdout",
     "output_type": "stream",
     "text": [
      "x:  10\n",
      "x:  15\n",
      "x:  5\n"
     ]
    }
   ],
   "source": [
    "# Equal to operator\n",
    "x = 10\n",
    "print(\"x: \",x)\n",
    "\n",
    "# Addition and Equal to operator\n",
    "x = 10\n",
    "x+=5  #x = x+5\n",
    "print(\"x: \",x)\n",
    "\n",
    "#subtraction and Equalto operator\n",
    "x = 10\n",
    "x-=5  #x = x-5\n",
    "print(\"x: \",x)\n"
   ]
  },
  {
   "cell_type": "markdown",
   "id": "22889932-c1dd-4d65-906e-ff8d712aae0c",
   "metadata": {},
   "source": [
    "# Comparsion Operator"
   ]
  },
  {
   "cell_type": "code",
   "execution_count": 9,
   "id": "179fa654-ad07-4fe8-b204-4fddda71736f",
   "metadata": {},
   "outputs": [
    {
     "name": "stdout",
     "output_type": "stream",
     "text": [
      "False\n"
     ]
    }
   ],
   "source": [
    "# Equal to Equalto\n",
    "x = 5\n",
    "y = 3\n",
    "print(x==y)\n"
   ]
  },
  {
   "cell_type": "code",
   "execution_count": 12,
   "id": "e59c3049-0f02-4e57-b409-423b2f9ddd43",
   "metadata": {},
   "outputs": [
    {
     "name": "stdout",
     "output_type": "stream",
     "text": [
      "True\n"
     ]
    }
   ],
   "source": [
    "#not equalto\n",
    "x = 10\n",
    "y = 5\n",
    "print(x!=y)"
   ]
  },
  {
   "cell_type": "code",
   "execution_count": 14,
   "id": "2f6d59db-5fe1-4437-ad54-a92b0bd4e29c",
   "metadata": {},
   "outputs": [
    {
     "name": "stdout",
     "output_type": "stream",
     "text": [
      "False\n"
     ]
    }
   ],
   "source": [
    "#Greater than equalto\n",
    "x = 10\n",
    "y = 15\n",
    "print(x>=y)"
   ]
  },
  {
   "cell_type": "markdown",
   "id": "6cd3b2c7-2ecd-410f-aa88-6178f10b3eef",
   "metadata": {},
   "source": [
    "# Logical Operator"
   ]
  },
  {
   "cell_type": "code",
   "execution_count": 15,
   "id": "6dbf31cf-3ce6-460b-bb4e-5dfe78ea9391",
   "metadata": {},
   "outputs": [
    {
     "name": "stdout",
     "output_type": "stream",
     "text": [
      "False\n"
     ]
    }
   ],
   "source": [
    "#And operator\n",
    "x = 5\n",
    "print(x>3 and x<3)"
   ]
  },
  {
   "cell_type": "code",
   "execution_count": 16,
   "id": "81be102b-1946-4037-90ab-ea6e680f9628",
   "metadata": {},
   "outputs": [
    {
     "name": "stdout",
     "output_type": "stream",
     "text": [
      "True\n"
     ]
    }
   ],
   "source": [
    "#Or operator\n",
    "x = 5\n",
    "print(x>3 or x<3)"
   ]
  },
  {
   "cell_type": "markdown",
   "id": "c8a92597-f5cf-4fe0-a59e-460abb6a252a",
   "metadata": {},
   "source": [
    "# Identity Operator\n",
    ">An identity operator checks if two variables point to the exact same object in memory, rather than just having the same value"
   ]
  },
  {
   "cell_type": "code",
   "execution_count": 3,
   "id": "5569a77c-bb23-434c-b4de-c4cb89407a48",
   "metadata": {},
   "outputs": [
    {
     "name": "stdout",
     "output_type": "stream",
     "text": [
      "False\n",
      "True\n",
      "True\n"
     ]
    }
   ],
   "source": [
    "# is operator\n",
    "x = [\"Mango\",\"Banana\",\"lichi\"]\n",
    "y = [\"Mango\",\"Banana\",\"lichi\"]\n",
    "z = x\n",
    "print(x is y) # this is false because x and y doesn't point to the exact same object in memeory.\n",
    "print(x==y)\n",
    "print(x is z)  # this is true because x and y point to the exact same object in memeory.\n"
   ]
  },
  {
   "cell_type": "markdown",
   "id": "42fadb2a-a3aa-4f99-ae0a-01cc9b54262f",
   "metadata": {},
   "source": [
    "# Membership Operator\n",
    ">Membership operators are used to test if a value exists within a sequence, such as a list, tuple, or string."
   ]
  },
  {
   "cell_type": "code",
   "execution_count": 5,
   "id": "f87766ee-1281-4d23-bba6-cce35cb5bf9a",
   "metadata": {},
   "outputs": [
    {
     "name": "stdout",
     "output_type": "stream",
     "text": [
      "False\n",
      "True\n"
     ]
    }
   ],
   "source": [
    "x = [\"apple\",\"Mango\",\"jack\"]\n",
    "print(\"Banana\" in x)\n",
    "print(\"Banana\" not in x)"
   ]
  }
 ],
 "metadata": {
  "kernelspec": {
   "display_name": "Python 3 (ipykernel)",
   "language": "python",
   "name": "python3"
  },
  "language_info": {
   "codemirror_mode": {
    "name": "ipython",
    "version": 3
   },
   "file_extension": ".py",
   "mimetype": "text/x-python",
   "name": "python",
   "nbconvert_exporter": "python",
   "pygments_lexer": "ipython3",
   "version": "3.13.7"
  }
 },
 "nbformat": 4,
 "nbformat_minor": 5
}
