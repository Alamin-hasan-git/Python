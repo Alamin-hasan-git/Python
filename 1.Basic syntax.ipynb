{
 "cells": [
  {
   "cell_type": "markdown",
   "id": "26d852f1-3171-41c0-be6b-da42dbcecb73",
   "metadata": {},
   "source": [
    "# Basic Function"
   ]
  },
  {
   "cell_type": "code",
   "execution_count": 3,
   "id": "78b3c75f-dc6e-466b-8017-1ceb6eb92330",
   "metadata": {
    "scrolled": true
   },
   "outputs": [
    {
     "name": "stdout",
     "output_type": "stream",
     "text": [
      "Hello World\n",
      "123\n"
     ]
    }
   ],
   "source": [
    "#using print() \n",
    "\n",
    "print(\"Hello World\")\n",
    "print(123)"
   ]
  },
  {
   "cell_type": "code",
   "execution_count": 7,
   "id": "dc740c17-aee3-4a92-aeaf-d82b94ceb105",
   "metadata": {},
   "outputs": [
    {
     "name": "stdout",
     "output_type": "stream",
     "text": [
      "<class 'int'>\n",
      "<class 'str'>\n",
      "<class 'float'>\n"
     ]
    }
   ],
   "source": [
    "\n",
    "#using type() \n",
    "\n",
    "a = 12\n",
    "print(type(a))\n",
    "\n",
    "b = \"alamin\"\n",
    "print(type(b))\n",
    "\n",
    "c = 12.4\n",
    "print(type(c))"
   ]
  },
  {
   "cell_type": "code",
   "execution_count": 9,
   "id": "7e6846bf-16ae-44fe-9fe2-a2ec864cd6b1",
   "metadata": {
    "scrolled": true
   },
   "outputs": [
    {
     "name": "stdin",
     "output_type": "stream",
     "text": [
      "Enter the value of A:  123\n"
     ]
    },
    {
     "name": "stdout",
     "output_type": "stream",
     "text": [
      "A:  123\n"
     ]
    }
   ],
   "source": [
    "\n",
    "#using input()\n",
    "\n",
    "a = input(\"Enter the value of A: \")\n",
    "print(\"A: \",a) "
   ]
  }
 ],
 "metadata": {
  "kernelspec": {
   "display_name": "Python 3 (ipykernel)",
   "language": "python",
   "name": "python3"
  },
  "language_info": {
   "codemirror_mode": {
    "name": "ipython",
    "version": 3
   },
   "file_extension": ".py",
   "mimetype": "text/x-python",
   "name": "python",
   "nbconvert_exporter": "python",
   "pygments_lexer": "ipython3",
   "version": "3.13.7"
  }
 },
 "nbformat": 4,
 "nbformat_minor": 5
}
