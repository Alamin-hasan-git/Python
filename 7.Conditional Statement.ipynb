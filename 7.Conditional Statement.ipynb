{
 "cells": [
  {
   "cell_type": "markdown",
   "id": "160ecf73-c8af-45fd-8d9f-420aab2cc2f7",
   "metadata": {},
   "source": [
    "# Conditional Statement"
   ]
  },
  {
   "cell_type": "markdown",
   "id": "16bb290e-5d94-45f0-9530-9561fa9e3404",
   "metadata": {},
   "source": [
    ">Conditional statements in programming are used to control the flow of a program based on certain conditions\n",
    "\n",
    "#Different types of conditional statement\n",
    ">if statement\n",
    ">if-else statement\n",
    ">if-else-if statement\n",
    ">switch statement\n",
    ">ternary operator"
   ]
  },
  {
   "cell_type": "markdown",
   "id": "dea4e56e-629d-4d5a-af45-d6b2a2e46d0f",
   "metadata": {},
   "source": [
    "# Simple if"
   ]
  },
  {
   "cell_type": "code",
   "execution_count": 3,
   "id": "0ffb33c9-887e-4bc2-ba38-db0ac14b6ab2",
   "metadata": {},
   "outputs": [
    {
     "name": "stdout",
     "output_type": "stream",
     "text": [
      "X is equal to 10\n",
      "bye!\n"
     ]
    }
   ],
   "source": [
    "x = 10\n",
    "if(x==10):\n",
    " print(\"X is equal to 10\")\n",
    "\n",
    "print(\"bye!\")"
   ]
  },
  {
   "cell_type": "code",
   "execution_count": 6,
   "id": "9ad8c4dd-6ecb-401e-89e2-ec905a56c476",
   "metadata": {},
   "outputs": [
    {
     "name": "stdout",
     "output_type": "stream",
     "text": [
      "bye!\n"
     ]
    }
   ],
   "source": [
    "x = 34\n",
    "if(x==10):\n",
    " print(\"x is equal to 34\")\n",
    "\n",
    "print(\"bye!\")"
   ]
  },
  {
   "cell_type": "markdown",
   "id": "71684133-3f5f-4e17-9c0a-40d312547c19",
   "metadata": {},
   "source": [
    "# if-else"
   ]
  },
  {
   "cell_type": "code",
   "execution_count": 3,
   "id": "636f1ce9-42f8-42f3-aac0-375dad030b9f",
   "metadata": {},
   "outputs": [
    {
     "name": "stdin",
     "output_type": "stream",
     "text": [
      "Enter a value of x:  12\n",
      "Enter a value of y:  32\n"
     ]
    },
    {
     "name": "stdout",
     "output_type": "stream",
     "text": [
      "Y is greater\n"
     ]
    }
   ],
   "source": [
    "x = int(input(\"Enter a value of x: \"))\n",
    "y = int(input(\"Enter a value of y: \"))\n",
    "if(x>y):\n",
    " print(\"X is greater\")\n",
    "else:\n",
    " print(\"Y is greater\")"
   ]
  },
  {
   "cell_type": "markdown",
   "id": "f7d86329-6c69-487a-ad50-8504b1649af4",
   "metadata": {},
   "source": [
    "# if_else Ladder"
   ]
  },
  {
   "cell_type": "code",
   "execution_count": 12,
   "id": "80e9fbf2-8cf6-4d5d-84f0-2dbdbbf26221",
   "metadata": {},
   "outputs": [
    {
     "name": "stdin",
     "output_type": "stream",
     "text": [
      "Enter your percentage:  70\n"
     ]
    },
    {
     "name": "stdout",
     "output_type": "stream",
     "text": [
      "Dist\n"
     ]
    }
   ],
   "source": [
    "#Percentage greater than or equal 70 == Dist\n",
    "#percentage greater or equal to 65 and less than 70 == 1st class\n",
    "#percentage greater or equal to 60 and less than 65 == 2nd class\n",
    "#percentage less than 60 == fail\n",
    "x = int(input(\"Enter your percentage: \"))\n",
    "if x>=70:\n",
    "    print(\"Dist\")\n",
    "elif x>=65 and x<70:\n",
    "    print(\"1st class\")\n",
    "elif x>=60 and x<65:\n",
    "    print(\"2nd class\")\n",
    "elif x<60:\n",
    "    print(\"Fail\")\n",
    "else:\n",
    "    print(\"Enter a valid number!\")"
   ]
  },
  {
   "cell_type": "markdown",
   "id": "8139073b-0401-4376-a213-960015c16e0a",
   "metadata": {},
   "source": [
    "# Nested if"
   ]
  },
  {
   "cell_type": "code",
   "execution_count": 26,
   "id": "3c260096-6d59-4f69-9c12-4e213f5ca2a2",
   "metadata": {},
   "outputs": [
    {
     "name": "stdin",
     "output_type": "stream",
     "text": [
      "Enter Your Age:  18\n",
      "Enter Your Weight:  65\n",
      "What is your blood group:  c+\n"
     ]
    },
    {
     "name": "stdout",
     "output_type": "stream",
     "text": [
      "Blood group not match\n"
     ]
    }
   ],
   "source": [
    "# 1. age>=18\n",
    "# 2. weight>=50\n",
    "# 3. if both age and weight match with certeria then the user can donate the blood\n",
    "# 4. if age<18 show msg under age\n",
    "# 5. if weight<50 show msg under weight\n",
    "# 6. if age doesnot match then it shoundn't ask for weight\n",
    "\n",
    "age = int(input(\"Enter Your Age: \"))\n",
    "blood= [\"a+\",\"a-\",\"ab+\",\"ab-\",\"b+\",\"b-\",\"o+\",\"o-\"]\n",
    "if age>=18:\n",
    "    weg = int(input(\"Enter Your Weight: \"))\n",
    "    if weg>=50 and weg<90:\n",
    "        blg = input(\"What is your blood group: \")\n",
    "        if blg.lower() in blood:\n",
    "            print(\"Donate blood\")\n",
    "        else:\n",
    "            print(\"Blood group not match\")\n",
    "    else:\n",
    "        print(\"Under weight\")\n",
    "else:\n",
    "    print(\"Under age\")\n",
    "    "
   ]
  },
  {
   "cell_type": "code",
   "execution_count": null,
   "id": "1d709e6d-e94b-4647-b5e7-9b7027a999f3",
   "metadata": {},
   "outputs": [],
   "source": []
  }
 ],
 "metadata": {
  "kernelspec": {
   "display_name": "Python 3 (ipykernel)",
   "language": "python",
   "name": "python3"
  },
  "language_info": {
   "codemirror_mode": {
    "name": "ipython",
    "version": 3
   },
   "file_extension": ".py",
   "mimetype": "text/x-python",
   "name": "python",
   "nbconvert_exporter": "python",
   "pygments_lexer": "ipython3",
   "version": "3.13.7"
  }
 },
 "nbformat": 4,
 "nbformat_minor": 5
}
