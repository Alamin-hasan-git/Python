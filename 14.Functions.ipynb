{
 "cells": [
  {
   "cell_type": "markdown",
   "id": "ac2dc6d7-4600-4d0b-bf8d-46209492cb24",
   "metadata": {},
   "source": [
    "# What is Function\n",
    ">Function is a block of code which only runs when is called.\n",
    ">\n",
    ">Function is also used for reusability of code.\n",
    ">\n",
    ">Function is start with \"def\" keyword."
   ]
  },
  {
   "cell_type": "markdown",
   "id": "b0cdec47-3230-4d93-88d6-1e37c43fbf06",
   "metadata": {},
   "source": [
    "# Types of Functions"
   ]
  },
  {
   "cell_type": "markdown",
   "id": "fa10966f-a080-4052-bb07-923124107bd2",
   "metadata": {},
   "source": [
    "> Built-in Function\n",
    ">\n",
    "> User-define Function\n",
    ">\n",
    "> Anonymous Function"
   ]
  },
  {
   "cell_type": "markdown",
   "id": "d4026c35-300d-4c2e-8403-796f3e4b735f",
   "metadata": {},
   "source": [
    "# What can be done?\n",
    "Creating a Function.\n",
    "\n",
    "Calling a Function.\n",
    "\n",
    "Function with one Argument.\n",
    "\n",
    "Function With Multiple Argument.\n",
    "\n",
    "Anonymous Function(Lambda Function)."
   ]
  },
  {
   "cell_type": "markdown",
   "id": "11f0fe4b-aa88-49d0-9752-b6b9829d410b",
   "metadata": {},
   "source": [
    "# In-built function"
   ]
  },
  {
   "cell_type": "code",
   "execution_count": 6,
   "id": "cdc769d9-13f7-4440-aa35-b1c4d7abb384",
   "metadata": {},
   "outputs": [
    {
     "name": "stdout",
     "output_type": "stream",
     "text": [
      "Hello MF\n",
      "1\n",
      "2\n",
      "3\n",
      "4\n",
      "5\n",
      "6\n",
      "7\n",
      "8\n",
      "53.79\n"
     ]
    }
   ],
   "source": [
    "# print() function\n",
    "print(\"Hello MF\")\n",
    "\n",
    "#range() function\n",
    "for i in range(1,9):\n",
    "    print(i)\n",
    "\n",
    "# round() function\n",
    "x = round(53.7865,2)\n",
    "print(x)\n"
   ]
  },
  {
   "cell_type": "markdown",
   "id": "add54bb7-7ca9-4f8f-8c31-fa78dd59fa0f",
   "metadata": {},
   "source": [
    "# User Define Function"
   ]
  },
  {
   "cell_type": "code",
   "execution_count": 7,
   "id": "5cd631d5-5948-4b0d-a80c-a0855a69a74f",
   "metadata": {},
   "outputs": [
    {
     "name": "stdout",
     "output_type": "stream",
     "text": [
      "Hello\n"
     ]
    }
   ],
   "source": [
    "# Create function\n",
    "def myfunction():\n",
    "    print(\"Hello\")\n",
    "#Calling a function\n",
    "myfunction()\n"
   ]
  },
  {
   "cell_type": "markdown",
   "id": "6fbe40e6-dc92-4ff5-8d86-d2ab1fa4fbdf",
   "metadata": {},
   "source": [
    "# Function with Arguments"
   ]
  },
  {
   "cell_type": "markdown",
   "id": "eb7effe7-043b-4bb9-babe-cf175f67dd37",
   "metadata": {},
   "source": [
    "### One Argument"
   ]
  },
  {
   "cell_type": "code",
   "execution_count": 9,
   "id": "868069bb-393e-4dd1-a9a6-8b315a1d672e",
   "metadata": {},
   "outputs": [
    {
     "name": "stdout",
     "output_type": "stream",
     "text": [
      "A: 10\n"
     ]
    }
   ],
   "source": [
    "# Creating a function\n",
    "def myfunction(a):\n",
    "    print(\"A:\",a)\n",
    "\n",
    "#Calling a function\n",
    "myfunction(10) #passing argument as 10\n"
   ]
  },
  {
   "cell_type": "markdown",
   "id": "15b9e5bc-65de-4646-98c7-074fba4e831e",
   "metadata": {},
   "source": [
    "## Multiple Arguments"
   ]
  },
  {
   "cell_type": "code",
   "execution_count": 1,
   "id": "0e19464b-c208-4ced-b7b3-6e1718fb4a81",
   "metadata": {},
   "outputs": [
    {
     "name": "stdout",
     "output_type": "stream",
     "text": [
      "A: 10\n",
      "B: 20\n"
     ]
    }
   ],
   "source": [
    "def myfunction(a,b):\n",
    "    print(\"A:\",a)\n",
    "    print(\"B:\",b)\n",
    "\n",
    "myfunction(10,20)"
   ]
  },
  {
   "cell_type": "markdown",
   "id": "c17e0460-9efe-448e-94e4-a2f91c65d477",
   "metadata": {},
   "source": [
    "# Default Parameter Value"
   ]
  },
  {
   "cell_type": "code",
   "execution_count": 9,
   "id": "b1abb449-4c71-4d10-8745-7036226c375a",
   "metadata": {},
   "outputs": [
    {
     "name": "stdout",
     "output_type": "stream",
     "text": [
      "I am from: Dhaka\n",
      "I am from: Barishal\n"
     ]
    }
   ],
   "source": [
    "def my_function(state=\"Barishal\"):\n",
    "    print(\"I am from: \"+state)\n",
    "\n",
    "my_function(\"Dhaka\")\n",
    "my_function()"
   ]
  },
  {
   "cell_type": "markdown",
   "id": "d32bab87-d323-4261-bdfe-37cb54ebd81a",
   "metadata": {},
   "source": [
    "# Passing a list in function"
   ]
  },
  {
   "cell_type": "code",
   "execution_count": 11,
   "id": "1ba7a973-41a7-4a78-9936-baaf74005652",
   "metadata": {},
   "outputs": [
    {
     "name": "stdout",
     "output_type": "stream",
     "text": [
      "Python\n",
      "java\n",
      "C++\n"
     ]
    }
   ],
   "source": [
    "def myfunction(fruit):\n",
    "    for i in fruit:\n",
    "        print(i)\n",
    "f = [\"Python\",\"java\",\"C++\"]\n",
    "\n",
    "#calling function\n",
    "myfunction(f)"
   ]
  },
  {
   "cell_type": "markdown",
   "id": "72c4b590-74fe-477f-8efa-6efe2a69448e",
   "metadata": {},
   "source": [
    "# Return values from function"
   ]
  },
  {
   "cell_type": "code",
   "execution_count": 13,
   "id": "cac26d39-8f36-470c-9717-e86a905a04c0",
   "metadata": {},
   "outputs": [
    {
     "name": "stdout",
     "output_type": "stream",
     "text": [
      "25\n"
     ]
    }
   ],
   "source": [
    "def myfunction(x):\n",
    "    return 5*x\n",
    "\n",
    "x = myfunction(5)\n",
    "print(x)"
   ]
  },
  {
   "cell_type": "markdown",
   "id": "40134f25-b74c-4c18-b735-c42f511baccd",
   "metadata": {},
   "source": [
    "# Recursion function"
   ]
  },
  {
   "cell_type": "code",
   "execution_count": 3,
   "id": "a270ef3d-8714-4038-9f50-a1cb6848c2bf",
   "metadata": {},
   "outputs": [
    {
     "name": "stdout",
     "output_type": "stream",
     "text": [
      "------------------------------Factorial Calculator--------------------------\n"
     ]
    },
    {
     "name": "stdin",
     "output_type": "stream",
     "text": [
      "Enter number:  5\n"
     ]
    },
    {
     "name": "stdout",
     "output_type": "stream",
     "text": [
      "The factorial of number 5 is:  120\n"
     ]
    }
   ],
   "source": [
    "# The function which call itself\n",
    "\n",
    "#creating a function\n",
    "def factorial(x):\n",
    "    if x==0 or x==1:\n",
    "        return 1\n",
    "    else:\n",
    "        return x*factorial(x-1)\n",
    "\n",
    "print(\"------------------------------Factorial Calculator--------------------------\")\n",
    "num = int(input(\"Enter number: \"))\n",
    "fact = factorial(num)\n",
    "print(\"The factorial of number\",num,\"is: \",fact)\n"
   ]
  },
  {
   "cell_type": "markdown",
   "id": "1aac7e60-c2d6-455d-af43-acbc04d7114b",
   "metadata": {},
   "source": [
    "# Anonymous Function(Lambda Function)"
   ]
  },
  {
   "cell_type": "code",
   "execution_count": 6,
   "id": "6ef354ad-e5cc-43b7-bc4b-006ed40ac6bb",
   "metadata": {},
   "outputs": [
    {
     "name": "stdout",
     "output_type": "stream",
     "text": [
      "15\n",
      "50\n"
     ]
    }
   ],
   "source": [
    "# Creating funnction\n",
    "x = lambda a: a+10\n",
    "print(x(5))\n",
    "\n",
    "\n",
    "# Lambda function with multiple arguments\n",
    "x = lambda a,b:a*b\n",
    "print(x(10,5))"
   ]
  },
  {
   "cell_type": "markdown",
   "id": "68310f87-f17a-4dd6-8c32-eb52d232a75c",
   "metadata": {},
   "source": [
    "# Global Variable \n",
    ">Global variable means the variable can be use anywhere in the program."
   ]
  },
  {
   "cell_type": "code",
   "execution_count": 9,
   "id": "8458e541-dbf9-41d7-b721-47a5a7c616d3",
   "metadata": {},
   "outputs": [
    {
     "name": "stdout",
     "output_type": "stream",
     "text": [
      "25\n",
      "20\n"
     ]
    }
   ],
   "source": [
    "z = 25 #Global variable\n",
    "def myfunction():\n",
    "    global z\n",
    "    print(z)\n",
    "    z=20\n",
    "myfunction()\n",
    "print(z)"
   ]
  },
  {
   "cell_type": "markdown",
   "id": "c4457717-81c4-4d27-9bf3-5a4c8479fa4f",
   "metadata": {},
   "source": [
    "# Local Variable\n",
    ">The variable which can be used in it scope"
   ]
  },
  {
   "cell_type": "code",
   "execution_count": null,
   "id": "63564832-6696-48c3-872c-fc4c150167f6",
   "metadata": {},
   "outputs": [],
   "source": [
    "def sum(x,y):\n",
    "    sum "
   ]
  }
 ],
 "metadata": {
  "kernelspec": {
   "display_name": "Python 3 (ipykernel)",
   "language": "python",
   "name": "python3"
  },
  "language_info": {
   "codemirror_mode": {
    "name": "ipython",
    "version": 3
   },
   "file_extension": ".py",
   "mimetype": "text/x-python",
   "name": "python",
   "nbconvert_exporter": "python",
   "pygments_lexer": "ipython3",
   "version": "3.13.7"
  }
 },
 "nbformat": 4,
 "nbformat_minor": 5
}
