{
 "cells": [
  {
   "cell_type": "markdown",
   "id": "da55591d-8b32-4579-8cc5-ddf75036451d",
   "metadata": {},
   "source": [
    "# Data Types"
   ]
  },
  {
   "cell_type": "markdown",
   "id": "f036636f-9bf1-4817-8e4f-e75d9e3e8631",
   "metadata": {},
   "source": [
    "> Data types are used before the variable, to know whivh type of values are stroed in variable\n",
    "> Data types dare actually classes and variables are instance(object) of these classes\n",
    "\n",
    "#classification of data types\n",
    "\n",
    "1.Numeric\n",
    "  >integer\n",
    "  >float\n",
    "  >complex number\n",
    "\n",
    "2.Sequence \n",
    "  >list\n",
    "  >tuple\n",
    "  >string\n",
    "\n",
    "3.Boolean\n",
    "4.Set\n",
    "5.Dictionary"
   ]
  },
  {
   "cell_type": "markdown",
   "id": "79f0cff2-7530-434e-842a-7c8869320cc3",
   "metadata": {},
   "source": [
    "# Numeric Datatype"
   ]
  },
  {
   "cell_type": "code",
   "execution_count": 13,
   "id": "6aae514c-7527-480a-9a5c-c0bea54b2fc0",
   "metadata": {
    "scrolled": true
   },
   "outputs": [
    {
     "name": "stdout",
     "output_type": "stream",
     "text": [
      "<class 'int'>\n",
      "<class 'float'>\n",
      "<class 'complex'>\n"
     ]
    }
   ],
   "source": [
    "# Int Datatype\n",
    "a = 10\n",
    "print(type(a))\n",
    "\n",
    "#Float Datatype\n",
    "b = 12.5\n",
    "print(type(b))\n",
    "\n",
    "#Complex Datatype\n",
    "c = 4+2j\n",
    "print(type(c))"
   ]
  },
  {
   "cell_type": "markdown",
   "id": "c8f06f2c-1cbf-475e-a267-95ab13a3d63e",
   "metadata": {},
   "source": [
    "# Sequence Datatypes"
   ]
  },
  {
   "cell_type": "code",
   "execution_count": 22,
   "id": "e74b8bf2-2821-4e12-8eab-03c6114c59fc",
   "metadata": {},
   "outputs": [
    {
     "name": "stdout",
     "output_type": "stream",
     "text": [
      "<class 'list'>\n",
      "<class 'str'>\n",
      "<class 'tuple'>\n"
     ]
    }
   ],
   "source": [
    "#List Datatype\n",
    "l1 = [1,2,3,4,5]\n",
    "print(type(l1))\n",
    "\n",
    "#String Datatype\n",
    "y = \"Alamin Hasan\"\n",
    "print(type(y))\n",
    "\n",
    "#Tuple Datatype\n",
    "z = (1,2,3,4,5)\n",
    "print(type(z))\n"
   ]
  },
  {
   "cell_type": "markdown",
   "id": "46b69f5a-a883-427d-bc86-8181a312d3dd",
   "metadata": {},
   "source": [
    "# Boolean Datatype"
   ]
  },
  {
   "cell_type": "code",
   "execution_count": 17,
   "id": "36534570-2622-4101-84a3-b1a73a90c60b",
   "metadata": {},
   "outputs": [
    {
     "name": "stdout",
     "output_type": "stream",
     "text": [
      "<class 'bool'>\n",
      "<class 'bool'>\n"
     ]
    }
   ],
   "source": [
    "d = True\n",
    "print(type(d))\n",
    "\n",
    "e = False\n",
    "print(type(e))"
   ]
  },
  {
   "cell_type": "markdown",
   "id": "556ec2c7-bcbb-4ce5-bd6b-d33803ac3ebb",
   "metadata": {},
   "source": [
    "# Set Datatype"
   ]
  },
  {
   "cell_type": "code",
   "execution_count": 18,
   "id": "4a4db5e8-2118-4a60-bc66-7154facf9bed",
   "metadata": {},
   "outputs": [
    {
     "name": "stdout",
     "output_type": "stream",
     "text": [
      "<class 'set'>\n"
     ]
    }
   ],
   "source": [
    "f = {'a','b','d'}\n",
    "print(type(f))"
   ]
  },
  {
   "cell_type": "markdown",
   "id": "bc5d8e4c-b058-4077-8db6-7e403f39d437",
   "metadata": {},
   "source": [
    "# Dictionary Datatype"
   ]
  },
  {
   "cell_type": "code",
   "execution_count": 19,
   "id": "1fac1383-cfd8-4ef6-ad54-91bdff4d3489",
   "metadata": {},
   "outputs": [
    {
     "name": "stdout",
     "output_type": "stream",
     "text": [
      "<class 'dict'>\n"
     ]
    }
   ],
   "source": [
    "g = {\"Key\" : \"Value\"}\n",
    "print(type(g))"
   ]
  }
 ],
 "metadata": {
  "kernelspec": {
   "display_name": "Python 3 (ipykernel)",
   "language": "python",
   "name": "python3"
  },
  "language_info": {
   "codemirror_mode": {
    "name": "ipython",
    "version": 3
   },
   "file_extension": ".py",
   "mimetype": "text/x-python",
   "name": "python",
   "nbconvert_exporter": "python",
   "pygments_lexer": "ipython3",
   "version": "3.13.7"
  }
 },
 "nbformat": 4,
 "nbformat_minor": 5
}
