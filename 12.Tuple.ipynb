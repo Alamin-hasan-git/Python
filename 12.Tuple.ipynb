{
 "cells": [
  {
   "cell_type": "markdown",
   "id": "bfca8d11-2691-4c63-9eb3-e5e77f412758",
   "metadata": {},
   "source": [
    "# Python Tuples\n",
    ">Tuple is collection in python\n",
    ">\n",
    ">Tuple is immutable(no changeable at runtime)\n",
    ">\n",
    ">Tuple allows multiple datatypes values to be store"
   ]
  },
  {
   "cell_type": "markdown",
   "id": "4fe22470-77b4-405a-a617-d16cc44d4903",
   "metadata": {},
   "source": [
    "### What can be done\n",
    "> Create Tuple\n",
    ">\n",
    "> Indexing and Slicing"
   ]
  },
  {
   "cell_type": "markdown",
   "id": "8f656d75-e493-42c9-9e2b-ffa7997dff7d",
   "metadata": {},
   "source": [
    "# Create Tuple"
   ]
  },
  {
   "cell_type": "code",
   "execution_count": 1,
   "id": "f8e29347-39f2-4df7-9db0-ec7d35360061",
   "metadata": {},
   "outputs": [
    {
     "name": "stdout",
     "output_type": "stream",
     "text": [
      "Current tuple:  ('Apple', 'Orange', 1, 2, 3, 12.5, 15.67, 1, 2)\n"
     ]
    }
   ],
   "source": [
    "#Creating a tuple\n",
    "t1 = (\"Apple\",\"Orange\",1,2,3,12.5,15.67,1,2)\n",
    "print(\"Current tuple: \",t1)"
   ]
  },
  {
   "cell_type": "markdown",
   "id": "31c1d8c1-6f5c-479a-8888-9e84d2d05263",
   "metadata": {},
   "source": [
    "# How to check a length of tuple"
   ]
  },
  {
   "cell_type": "code",
   "execution_count": 5,
   "id": "86a9cfaa-2f4f-4720-ba2a-22f65bce2bbb",
   "metadata": {},
   "outputs": [
    {
     "name": "stdout",
     "output_type": "stream",
     "text": [
      "The length of the tuple is:  8\n"
     ]
    }
   ],
   "source": [
    "t2 = (1,2,3,4,5,6,7,8)\n",
    "#checking the length of tuple \n",
    "print(\"The length of the tuple is: \",len(t2))"
   ]
  },
  {
   "cell_type": "markdown",
   "id": "a3781193-d5bb-4286-af93-9b0cd1a36836",
   "metadata": {},
   "source": [
    "# Indexing/Slicing"
   ]
  },
  {
   "cell_type": "code",
   "execution_count": null,
   "id": "ee342dab-0452-4e53-95e7-48aaefb2e1e7",
   "metadata": {},
   "outputs": [],
   "source": [
    "# Same as list "
   ]
  },
  {
   "cell_type": "markdown",
   "id": "b3804353-b725-4b9e-b072-57b28489dc94",
   "metadata": {},
   "source": [
    "# Convert Tuple into List"
   ]
  },
  {
   "cell_type": "code",
   "execution_count": 8,
   "id": "20ec360e-1904-4072-92fe-2b00f24fe3a8",
   "metadata": {},
   "outputs": [
    {
     "name": "stdout",
     "output_type": "stream",
     "text": [
      "Current Tuple:  ('Apple', 'Orange', 1, 2, 3, 12.5, 15.67, 1, 2)\n",
      "After converting: ['Apple', 'Orange', 1, 2, 3, 12.5, 15.67, 1, 2]\n"
     ]
    }
   ],
   "source": [
    "t1 = (\"Apple\",\"Orange\",1,2,3,12.5,15.67,1,2)\n",
    "print(\"Current Tuple: \",t1) #before change\n",
    "\n",
    "x = list(t1)\n",
    "print(\"After converting:\",x)"
   ]
  },
  {
   "cell_type": "markdown",
   "id": "b9e39b95-5921-40ff-b194-fd9f629692cd",
   "metadata": {},
   "source": [
    "# Tuple to List then add a value after adding convert the list into tuple"
   ]
  },
  {
   "cell_type": "code",
   "execution_count": 23,
   "id": "202c4f1f-ee68-447a-830c-bafc66035768",
   "metadata": {},
   "outputs": [
    {
     "name": "stdout",
     "output_type": "stream",
     "text": [
      "Current tuple:  ('Python', 'Java', 'C++', 'Swift')\n",
      "<class 'tuple'>\n",
      "\n",
      "After convert into list:  ['Python', 'Java', 'C++', 'Swift']\n",
      "<class 'list'>\n",
      "\n",
      "After adding value: ['Python', 'Java', 'C++', 'Swift', 'Dart']\n",
      "<class 'list'>\n",
      "\n",
      "After convert list into tuple: ('Python', 'Java', 'C++', 'Swift', 'Dart')\n",
      "<class 'tuple'>\n"
     ]
    }
   ],
   "source": [
    "# create a tuple\n",
    "t1 = (\"Python\",\"Java\",\"C++\",\"Swift\")\n",
    "print(\"Current tuple: \",t1)\n",
    "print(type(t1))\n",
    "#conter tuple into list\n",
    "l1 = list(t1)\n",
    "print(\"\\nAfter convert into list: \",l1)\n",
    "print(type(l1))\n",
    "# add a value\n",
    "l1.append(\"Dart\")\n",
    "print(\"\\nAfter adding value:\",l1)\n",
    "print(type(l1))\n",
    "# convert list into tuple \n",
    "t2 = tuple(l1)\n",
    "print(\"\\nAfter convert list into tuple:\",t2)\n",
    "print(type(t2))"
   ]
  },
  {
   "cell_type": "markdown",
   "id": "bdf8a98e-2023-4282-9339-dee0fe12e820",
   "metadata": {},
   "source": [
    "# Loops with Tuple"
   ]
  },
  {
   "cell_type": "code",
   "execution_count": 28,
   "id": "6b8cb2fe-a9d7-448a-9ec2-69a252d177bc",
   "metadata": {},
   "outputs": [
    {
     "name": "stdout",
     "output_type": "stream",
     "text": [
      "Python\n",
      "Java\n",
      "C++\n",
      "Dart\n"
     ]
    }
   ],
   "source": [
    "#for loop with tuple\n",
    "t1 = (\"Python\",\"Java\",\"C++\",\"Dart\")\n",
    "for i in t1:\n",
    "    print(i)"
   ]
  },
  {
   "cell_type": "code",
   "execution_count": 36,
   "id": "a8356096-2233-425f-9fdb-51114cb38142",
   "metadata": {},
   "outputs": [
    {
     "name": "stdout",
     "output_type": "stream",
     "text": [
      "Python\n",
      "Java\n",
      "C++\n",
      "Dart\n",
      "Loop finish\n"
     ]
    }
   ],
   "source": [
    "#while loop with tuple\n",
    "t1 = (\"Python\",\"Java\",\"C++\",\"Dart\")\n",
    "i = 0\n",
    "while i<len(t1):\n",
    "    print(t1[i])\n",
    "    i = i+1\n",
    "else:\n",
    "    print(\"Loop finish\")"
   ]
  },
  {
   "cell_type": "code",
   "execution_count": null,
   "id": "c02d7c0e-dbb4-4652-84c5-f8f60f190780",
   "metadata": {},
   "outputs": [],
   "source": []
  }
 ],
 "metadata": {
  "kernelspec": {
   "display_name": "Python 3 (ipykernel)",
   "language": "python",
   "name": "python3"
  },
  "language_info": {
   "codemirror_mode": {
    "name": "ipython",
    "version": 3
   },
   "file_extension": ".py",
   "mimetype": "text/x-python",
   "name": "python",
   "nbconvert_exporter": "python",
   "pygments_lexer": "ipython3",
   "version": "3.13.7"
  }
 },
 "nbformat": 4,
 "nbformat_minor": 5
}
