{
 "cells": [
  {
   "cell_type": "markdown",
   "id": "3afef506-8ea8-4974-a721-fabae6bc3e06",
   "metadata": {},
   "source": [
    "# String"
   ]
  },
  {
   "cell_type": "markdown",
   "id": "7e359f42-2da7-4830-82e0-383055834bc2",
   "metadata": {},
   "source": [
    ">String in python are surrounded by either single quotation marks, or double quotation marks.  \n",
    ">String is the collection of character\n",
    ">"
   ]
  },
  {
   "cell_type": "markdown",
   "id": "d59aca8c-ca11-4ea6-8a36-9c1513ee87ba",
   "metadata": {},
   "source": [
    "  ### How to use String in python"
   ]
  },
  {
   "cell_type": "code",
   "execution_count": 2,
   "id": "7f829f47-dca8-499e-8d2b-128da9570854",
   "metadata": {},
   "outputs": [
    {
     "name": "stdout",
     "output_type": "stream",
     "text": [
      "Alamin\n",
      "Alamin\n"
     ]
    }
   ],
   "source": [
    "#single quote in string\n",
    "print('Alamin')\n",
    "\n",
    "#double qoute in string\n",
    "print(\"Alamin\")"
   ]
  },
  {
   "cell_type": "markdown",
   "id": "55274c26-5aaf-4ef6-ad11-769045fe056a",
   "metadata": {},
   "source": [
    "### Multiline String"
   ]
  },
  {
   "cell_type": "code",
   "execution_count": 4,
   "id": "ef9ff8da-add3-45ec-90f1-35e526996a56",
   "metadata": {},
   "outputs": [
    {
     "name": "stdout",
     "output_type": "stream",
     "text": [
      " \n",
      "Python is booming in the market\n",
      "python is smart language\n",
      "python is used in AI,Machine Learning,Data Science\n",
      "\n"
     ]
    }
   ],
   "source": [
    "a = \"\"\" \n",
    "Python is booming in the market\n",
    "python is smart language\n",
    "python is used in AI,Machine Learning,Data Science\n",
    "\"\"\"\n",
    "print(a)"
   ]
  },
  {
   "cell_type": "markdown",
   "id": "99a4b87d-e76a-46f9-914b-6cf555a76823",
   "metadata": {},
   "source": [
    "### Update String"
   ]
  },
  {
   "cell_type": "code",
   "execution_count": 6,
   "id": "3fb05e9e-9f5a-4337-941c-6ccff92aa484",
   "metadata": {},
   "outputs": [
    {
     "name": "stdout",
     "output_type": "stream",
     "text": [
      "Hello World!\n",
      "Updated String: Hello Python\n"
     ]
    }
   ],
   "source": [
    "a = \"Hello World!\"\n",
    "print(a)\n",
    "print(\"Updated String:\",a[:6]+\"Python\") #this line is use for update the string"
   ]
  },
  {
   "cell_type": "markdown",
   "id": "d6c0e3cd-47f0-482a-a528-4fc9591defb9",
   "metadata": {},
   "source": [
    "### String Slicing"
   ]
  },
  {
   "cell_type": "code",
   "execution_count": 14,
   "id": "b75a2490-6909-4311-ad89-75382342df3c",
   "metadata": {},
   "outputs": [
    {
     "name": "stdout",
     "output_type": "stream",
     "text": [
      "Index 1: e\n",
      "index 1 to 6: ello \n",
      "index till 6: Hello P\n",
      "Last value: n\n"
     ]
    }
   ],
   "source": [
    "a = \"Hello Python\"\n",
    "#access the value of index 1\n",
    "print(\"Index 1:\",a[1])\n",
    "\n",
    "#Access the value between index 1 to 6\n",
    "print(\"index 1 to 6:\",a[1:6])\n",
    "\n",
    "#Access the value till index 6\n",
    "print(\"index till 6:\",a[:7])\n",
    "\n",
    "#Access the last value from string\n",
    "print(\"Last value:\",a[-1]) #can access the last value with index -1"
   ]
  },
  {
   "cell_type": "markdown",
   "id": "23df05f5-4b7d-4ade-942e-5a71dfa422c4",
   "metadata": {},
   "source": [
    "### String In-Build Methods"
   ]
  },
  {
   "cell_type": "code",
   "execution_count": 20,
   "id": "09af0ef3-0310-4273-889b-26a175c3cd7d",
   "metadata": {},
   "outputs": [
    {
     "name": "stdout",
     "output_type": "stream",
     "text": [
      "Hello world\n",
      "welcome to python\n",
      "2\n"
     ]
    }
   ],
   "source": [
    "#Capitalize() : this method convert the first character in string.\n",
    "a = \"hello world\"\n",
    "x =a.capitalize()\n",
    "print(x)\n",
    "\n",
    "#Casefold() :this method convert all capital letter into small\n",
    "a = \"Welcome to Python\"\n",
    "x = a.casefold()\n",
    "print(x)\n",
    "\n",
    "#Count() :this method is used to count the repeated word in string\n",
    "a = \"i love python, python is a smart language\"\n",
    "x = a.count(\"python\")\n",
    "print(x)"
   ]
  },
  {
   "cell_type": "markdown",
   "id": "769967b0-6b3a-41a2-ad1a-3016b08e4c9a",
   "metadata": {},
   "source": []
  }
 ],
 "metadata": {
  "kernelspec": {
   "display_name": "Python 3 (ipykernel)",
   "language": "python",
   "name": "python3"
  },
  "language_info": {
   "codemirror_mode": {
    "name": "ipython",
    "version": 3
   },
   "file_extension": ".py",
   "mimetype": "text/x-python",
   "name": "python",
   "nbconvert_exporter": "python",
   "pygments_lexer": "ipython3",
   "version": "3.13.7"
  }
 },
 "nbformat": 4,
 "nbformat_minor": 5
}
