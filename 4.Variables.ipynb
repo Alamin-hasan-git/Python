{
 "cells": [
  {
   "cell_type": "markdown",
   "id": "d11236e7-d3ed-4251-8e25-9b247008ee8b",
   "metadata": {},
   "source": [
    "# Variables"
   ]
  },
  {
   "cell_type": "markdown",
   "id": "d6c64ec9-6eb9-4ed7-bf47-d97b71c4909b",
   "metadata": {},
   "source": [
    ">Variables are names to store some values\n",
    ">it can store integers,floaat,string,boolean,set,tuple,list and dictionary"
   ]
  },
  {
   "cell_type": "markdown",
   "id": "b0459e7b-9694-4b45-8517-bb5d4ee2454d",
   "metadata": {},
   "source": [
    "# Rules of Variables"
   ]
  },
  {
   "cell_type": "markdown",
   "id": "b6fc2a4c-7664-480b-8e86-2ed8e260071d",
   "metadata": {},
   "source": [
    ">Variables should start with Alphabet only\n",
    ">Variable name should not have whitespaces\n",
    ">we can't use datatypes as a variavle name\n",
    ">variable name are significant"
   ]
  },
  {
   "cell_type": "markdown",
   "id": "39fb47db-06fe-45bb-89ab-33b0c37e09f8",
   "metadata": {},
   "source": [
    "# Assign Multiple Variables"
   ]
  },
  {
   "cell_type": "code",
   "execution_count": 1,
   "id": "06dfdb02-796e-49a2-a499-19aca1513831",
   "metadata": {},
   "outputs": [],
   "source": [
    "#Python allows multiple variable at a time\n",
    "\n",
    "x,y,z = \"Orange\",\"Mango\",\"Banana\""
   ]
  },
  {
   "cell_type": "markdown",
   "id": "7b1d6033-1a38-4580-b8de-24b713b2b381",
   "metadata": {},
   "source": [
    "# Concat Variables"
   ]
  },
  {
   "cell_type": "code",
   "execution_count": 3,
   "id": "df1417bb-eca8-4260-aa55-dfca2ea41825",
   "metadata": {},
   "outputs": [
    {
     "name": "stdout",
     "output_type": "stream",
     "text": [
      "python Programming\n"
     ]
    }
   ],
   "source": [
    "# python allows you to concat the variables using \"+\" sign.\n",
    "\n",
    "x = \"python \"\n",
    "y = \"Programming\"\n",
    "z = x+y\n",
    "print(z)"
   ]
  },
  {
   "cell_type": "markdown",
   "id": "1bfd4b32-ae10-4232-b155-5532ada9a282",
   "metadata": {},
   "source": [
    "# Creating Variables"
   ]
  },
  {
   "cell_type": "code",
   "execution_count": 14,
   "id": "dee2bd6c-a9dd-49f0-b9af-3d087b66ad72",
   "metadata": {},
   "outputs": [
    {
     "name": "stdout",
     "output_type": "stream",
     "text": [
      "10\n",
      "<class 'int'>\n",
      "\n",
      "\n",
      "10.5\n",
      "<class 'float'>\n",
      "\n",
      "\n",
      "Alamin Hasan\n",
      "<class 'str'>\n",
      "\n",
      "\n",
      "[1, 2, 3, 4, 5, 6]\n",
      "<class 'list'>\n",
      "\n",
      "\n",
      "(1, 2, 3, 4, 5)\n",
      "<class 'tuple'>\n"
     ]
    }
   ],
   "source": [
    "#integer value to the variables\n",
    "a = 10\n",
    "print(a)\n",
    "print(type(a))\n",
    "print(\"\\n\")\n",
    "\n",
    "#float value to the variables\n",
    "b = 10.5\n",
    "print(b)\n",
    "print(type(b))\n",
    "print(\"\\n\")\n",
    "\n",
    "#String value to the variables\n",
    "c = \"Alamin Hasan\"\n",
    "print(c)\n",
    "print(type(c))\n",
    "print(\"\\n\")\n",
    "\n",
    "#list store in variables\n",
    "l1 = [1,2,3,4,5,6]\n",
    "print(l1)\n",
    "print(type(l1))\n",
    "print(\"\\n\")\n",
    "\n",
    "#Tuple store in variables\n",
    "tpl = (1,2,3,4,5)\n",
    "print(tpl)\n",
    "print(type(tpl))"
   ]
  },
  {
   "cell_type": "markdown",
   "id": "fce4fdd4-88d3-4074-a05e-51ad8c9115c3",
   "metadata": {},
   "source": [
    "# Type Conversion"
   ]
  },
  {
   "cell_type": "code",
   "execution_count": 13,
   "id": "2d8a4b6d-9ced-463d-af0f-0ff3591798cf",
   "metadata": {},
   "outputs": [
    {
     "name": "stdout",
     "output_type": "stream",
     "text": [
      "<class 'float'>\n",
      "<class 'int'>\n"
     ]
    }
   ],
   "source": [
    "# converting from one datatype to another datatype is called \n",
    "#type conversion/type casting\n",
    "\n",
    "a = 10.5 \n",
    "print(type(a))\n",
    "\n",
    "a = int(a)\n",
    "print(type(a))\n"
   ]
  },
  {
   "cell_type": "code",
   "execution_count": null,
   "id": "090636cd-faba-4c80-86cd-c7388e6677d7",
   "metadata": {},
   "outputs": [],
   "source": []
  }
 ],
 "metadata": {
  "kernelspec": {
   "display_name": "Python 3 (ipykernel)",
   "language": "python",
   "name": "python3"
  },
  "language_info": {
   "codemirror_mode": {
    "name": "ipython",
    "version": 3
   },
   "file_extension": ".py",
   "mimetype": "text/x-python",
   "name": "python",
   "nbconvert_exporter": "python",
   "pygments_lexer": "ipython3",
   "version": "3.13.7"
  }
 },
 "nbformat": 4,
 "nbformat_minor": 5
}
