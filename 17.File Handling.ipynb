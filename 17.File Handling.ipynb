{
 "cells": [
  {
   "cell_type": "markdown",
   "id": "b6c40869-54a3-4327-a5c7-cb82c456cd63",
   "metadata": {},
   "source": [
    "# What is File Handling?\n",
    ">File Handling is an important part for web application\n",
    "\n",
    ">When can do several functions for Creating , Reading, Updating, and Deleting files.\n",
    "\n",
    "## File Handling Permissions\n",
    "> \"r\" ----> Read a file content\n",
    ">\n",
    "> \"a\" ----> Append a vile value\n",
    ">\n",
    "> \"w\" ----> Write a value in file\n",
    ">\n",
    "## What can be done?\n",
    "> Creating a file\n",
    ">\n",
    "> Read file\n",
    ">\n",
    "> Append file\n",
    ">\n",
    "> Storing list into file\n",
    ">\n",
    "> Read list from file"
   ]
  },
  {
   "cell_type": "markdown",
   "id": "33184577-dd8c-4f71-9d3c-ac7fefab7015",
   "metadata": {},
   "source": [
    "# File Creating and Write"
   ]
  },
  {
   "cell_type": "code",
   "execution_count": 12,
   "id": "4ffc8e4e-84a9-4c6c-9f2b-6558b3547ee4",
   "metadata": {},
   "outputs": [
    {
     "name": "stdout",
     "output_type": "stream",
     "text": [
      "File created\n"
     ]
    }
   ],
   "source": [
    "# open(\"File name\",\"Permission\")\n",
    "s = \"This is my File Handling Program.\"\n",
    "file = open(\"demo1.txt\",\"w\")\n",
    "file.write(s)\n",
    "file.close()\n",
    "print(\"File created\")"
   ]
  },
  {
   "cell_type": "markdown",
   "id": "faf4561f-9390-4024-a849-f2bf087290f2",
   "metadata": {},
   "source": [
    "# File Read"
   ]
  },
  {
   "cell_type": "code",
   "execution_count": 13,
   "id": "de042c60-f436-4080-a9c2-2895ea222a84",
   "metadata": {},
   "outputs": [
    {
     "name": "stdout",
     "output_type": "stream",
     "text": [
      "This is my File Handling Program.\n"
     ]
    }
   ],
   "source": [
    "file = open(\"demo1.txt\",\"r\")\n",
    "filecontent = file.read()\n",
    "print(filecontent)"
   ]
  },
  {
   "cell_type": "markdown",
   "id": "05aabd47-dee3-4a6e-8ede-a4d37302b6c3",
   "metadata": {},
   "source": [
    "# Write a list into a File"
   ]
  },
  {
   "cell_type": "code",
   "execution_count": 14,
   "id": "cc8b3eba-6c38-4044-ab7f-647a43601f7d",
   "metadata": {},
   "outputs": [
    {
     "name": "stdout",
     "output_type": "stream",
     "text": [
      "File Created.\n"
     ]
    }
   ],
   "source": [
    "l1 = [\"python,\",\"java,\",\"php,\",\"dart.\"]\n",
    "file  = open(\"demo2.txt\",\"w\")\n",
    "file.writelines(l1)\n",
    "print(\"File Created.\")\n",
    "file.close()"
   ]
  },
  {
   "cell_type": "markdown",
   "id": "9b73c4dd-6283-4537-b28c-c5d95b66392d",
   "metadata": {},
   "source": [
    "# Read a list from File"
   ]
  },
  {
   "cell_type": "code",
   "execution_count": 15,
   "id": "7924c5d6-ea68-4ca4-af31-835f56e8a684",
   "metadata": {},
   "outputs": [
    {
     "name": "stdout",
     "output_type": "stream",
     "text": [
      "['python,java,php,dart.']\n"
     ]
    }
   ],
   "source": [
    "file = open(\"demo2.txt\",\"r\")\n",
    "filelist = file.readlines()\n",
    "print(filelist)"
   ]
  },
  {
   "cell_type": "markdown",
   "id": "88331d03-4325-4974-bf3f-48729aaf71c6",
   "metadata": {},
   "source": [
    "# Appending a value into File"
   ]
  },
  {
   "cell_type": "code",
   "execution_count": 16,
   "id": "897ede7b-878b-4353-acc9-0655aab282c9",
   "metadata": {},
   "outputs": [
    {
     "name": "stdout",
     "output_type": "stream",
     "text": [
      "File Updated\n"
     ]
    }
   ],
   "source": [
    "S = \"python file handling\"\n",
    "file = open(\"demo1.txt\",\"a\")\n",
    "file.write(S)\n",
    "print(\"File Updated\")\n",
    "file.close()"
   ]
  },
  {
   "cell_type": "code",
   "execution_count": null,
   "id": "3ec54a24-569e-47ef-980b-8c6a98d786d1",
   "metadata": {},
   "outputs": [],
   "source": []
  }
 ],
 "metadata": {
  "kernelspec": {
   "display_name": "Python 3 (ipykernel)",
   "language": "python",
   "name": "python3"
  },
  "language_info": {
   "codemirror_mode": {
    "name": "ipython",
    "version": 3
   },
   "file_extension": ".py",
   "mimetype": "text/x-python",
   "name": "python",
   "nbconvert_exporter": "python",
   "pygments_lexer": "ipython3",
   "version": "3.13.7"
  }
 },
 "nbformat": 4,
 "nbformat_minor": 5
}
