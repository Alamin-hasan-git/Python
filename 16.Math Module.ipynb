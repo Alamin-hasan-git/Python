{
 "cells": [
  {
   "cell_type": "markdown",
   "id": "9f067dec-62a3-4677-99f2-8eacc0330bf7",
   "metadata": {},
   "source": [
    "# What is Math Module\n",
    ">Math module is used to do a mathematical task in python by importing \"math\""
   ]
  },
  {
   "cell_type": "markdown",
   "id": "b657bda5-936e-4e7b-9362-001ff047b0d8",
   "metadata": {},
   "source": [
    "# What can be done?\n",
    "> Import Math\n",
    ">\n",
    "> Math operations"
   ]
  },
  {
   "cell_type": "markdown",
   "id": "b94e1489-02d2-4860-8583-365aee3c0638",
   "metadata": {},
   "source": [
    "# Import Math"
   ]
  },
  {
   "cell_type": "code",
   "execution_count": 1,
   "id": "0a7b474e-7185-4cc0-82f2-cd9f89ced261",
   "metadata": {},
   "outputs": [],
   "source": [
    "# import math \n",
    "\n",
    "# from math import \"function name\""
   ]
  },
  {
   "cell_type": "markdown",
   "id": "da164096-88bb-4b9d-918b-74a762ed9958",
   "metadata": {},
   "source": [
    "# factorial()"
   ]
  },
  {
   "cell_type": "code",
   "execution_count": 4,
   "id": "b7e82426-b3cf-486e-9de7-566db8a2f72d",
   "metadata": {},
   "outputs": [
    {
     "name": "stdout",
     "output_type": "stream",
     "text": [
      "720\n"
     ]
    }
   ],
   "source": [
    "import math\n",
    "print(math.factorial(6))"
   ]
  },
  {
   "cell_type": "markdown",
   "id": "069ef27d-d2ae-4f45-a011-68354d284d94",
   "metadata": {},
   "source": [
    "# ceil()"
   ]
  },
  {
   "cell_type": "code",
   "execution_count": 10,
   "id": "a32d79e4-8960-4987-af08-d8222a46971d",
   "metadata": {},
   "outputs": [
    {
     "name": "stdout",
     "output_type": "stream",
     "text": [
      "2\n",
      "6\n",
      "11\n"
     ]
    }
   ],
   "source": [
    "import math\n",
    "print(math.ceil(1.2))  # get the higher round value\n",
    "print(math.ceil(5.6))\n",
    "print(math.ceil(10.6))"
   ]
  },
  {
   "cell_type": "markdown",
   "id": "68d5d807-62d2-4c8b-9261-c2f8172010db",
   "metadata": {},
   "source": [
    "# floor()"
   ]
  },
  {
   "cell_type": "code",
   "execution_count": 11,
   "id": "42e33f82-ef1d-4b39-9dc3-6641b0070942",
   "metadata": {},
   "outputs": [
    {
     "name": "stdout",
     "output_type": "stream",
     "text": [
      "2\n",
      "7\n",
      "56\n"
     ]
    }
   ],
   "source": [
    "import math\n",
    "print(math.floor(2.5)) # get the lower round value\n",
    "print(math.floor(7.9))\n",
    "print(math.floor(56.5))"
   ]
  },
  {
   "cell_type": "markdown",
   "id": "b1bda011-70e7-4c32-b026-ee32f249037f",
   "metadata": {},
   "source": [
    "# sqrt()"
   ]
  },
  {
   "cell_type": "code",
   "execution_count": 14,
   "id": "04690669-6386-4a4f-a3ce-d558f655cd1d",
   "metadata": {},
   "outputs": [
    {
     "name": "stdout",
     "output_type": "stream",
     "text": [
      "3.1622776601683795\n",
      "3.872983346207417\n"
     ]
    }
   ],
   "source": [
    "import math\n",
    "\n",
    "print(math.sqrt(10))\n",
    "print(math.sqrt(15))"
   ]
  },
  {
   "cell_type": "code",
   "execution_count": null,
   "id": "08c3c8e6-1c55-4d5e-86c9-64fc80bdf596",
   "metadata": {},
   "outputs": [],
   "source": []
  }
 ],
 "metadata": {
  "kernelspec": {
   "display_name": "Python 3 (ipykernel)",
   "language": "python",
   "name": "python3"
  },
  "language_info": {
   "codemirror_mode": {
    "name": "ipython",
    "version": 3
   },
   "file_extension": ".py",
   "mimetype": "text/x-python",
   "name": "python",
   "nbconvert_exporter": "python",
   "pygments_lexer": "ipython3",
   "version": "3.13.7"
  }
 },
 "nbformat": 4,
 "nbformat_minor": 5
}
