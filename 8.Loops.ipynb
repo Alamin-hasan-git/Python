{
 "cells": [
  {
   "cell_type": "markdown",
   "id": "fb00a6cb-5ab3-406c-a8e3-1f9b4a3d4284",
   "metadata": {},
   "source": [
    "# While Loop"
   ]
  },
  {
   "cell_type": "code",
   "execution_count": 3,
   "id": "471a8291-3107-4c16-9980-7195e12013c2",
   "metadata": {},
   "outputs": [
    {
     "name": "stdin",
     "output_type": "stream",
     "text": [
      "Enter a number:  5\n"
     ]
    },
    {
     "name": "stdout",
     "output_type": "stream",
     "text": [
      "sum:  5\n",
      "sum:  9\n",
      "sum:  12\n",
      "sum:  14\n",
      "sum:  15\n",
      "loop finished\n"
     ]
    }
   ],
   "source": [
    "# sum of n\n",
    "\n",
    "sum = 0\n",
    "x = int (input(\"Enter a number: \"))\n",
    "while x>0:\n",
    "    sum = sum+x\n",
    "    x-=1\n",
    "    print(\"sum: \",sum)\n",
    "print(\"loop finished\")\n"
   ]
  },
  {
   "cell_type": "markdown",
   "id": "22f1c5b0-c887-4d54-b7e8-4c1ef51f4626",
   "metadata": {},
   "source": [
    "# While loop with else part"
   ]
  },
  {
   "cell_type": "code",
   "execution_count": 6,
   "id": "e0172d01-ad20-4de8-953a-5ccf704e2ec7",
   "metadata": {},
   "outputs": [
    {
     "name": "stdin",
     "output_type": "stream",
     "text": [
      "Enter a number:  5\n"
     ]
    },
    {
     "name": "stdout",
     "output_type": "stream",
     "text": [
      "sum:  5\n",
      "sum:  9\n",
      "sum:  12\n",
      "sum:  14\n",
      "sum:  15\n",
      "loop error\n",
      "loop finished\n"
     ]
    }
   ],
   "source": [
    "sum = 0\n",
    "x = int (input(\"Enter a number: \"))\n",
    "while x>0:\n",
    "    sum = sum+x\n",
    "    x-=1\n",
    "    print(\"sum: \",sum)\n",
    "else:\n",
    "    print(\"loop error\")\n",
    "print(\"loop finished\")"
   ]
  },
  {
   "cell_type": "markdown",
   "id": "f1d20cfb-388e-43de-91ae-a9c715546ce3",
   "metadata": {},
   "source": [
    "# Simple For Loop"
   ]
  },
  {
   "cell_type": "code",
   "execution_count": 9,
   "id": "8d744024-de88-40e7-8245-d6b3e1c65702",
   "metadata": {},
   "outputs": [
    {
     "name": "stdout",
     "output_type": "stream",
     "text": [
      "c\n",
      "java\n",
      "c++\n",
      "dart\n",
      "python\n",
      "swift\n"
     ]
    }
   ],
   "source": [
    "word = [\"c\",\"java\",\"c++\",\"dart\",\"python\",\"swift\"]\n",
    "\n",
    "for i in word:\n",
    "  print(i)"
   ]
  },
  {
   "cell_type": "markdown",
   "id": "72962b30-4cc5-4577-b152-7aba5441261f",
   "metadata": {},
   "source": [
    "# Nested For Loop"
   ]
  },
  {
   "cell_type": "code",
   "execution_count": 19,
   "id": "d5b8b156-5762-4481-a525-70dcba5ce44c",
   "metadata": {},
   "outputs": [
    {
     "name": "stdout",
     "output_type": "stream",
     "text": [
      "*\n",
      "**\n",
      "***\n",
      "****\n",
      "*****\n"
     ]
    }
   ],
   "source": [
    "# *\n",
    "# **\n",
    "# ***\n",
    "# ****\n",
    "# *****\n",
    "# in nested for loop we use range method \n",
    "#range(Start point, End point, step/jump)\n",
    "\n",
    "for i in range(1,6):\n",
    "    for j in range(i):\n",
    "        print(\"*\",end=\"\")\n",
    "    print()\n"
   ]
  },
  {
   "cell_type": "markdown",
   "id": "a3b3bbed-9251-4c09-be11-a7ad488e6e6f",
   "metadata": {},
   "source": [
    "# Loop Control Statement\n",
    ">Break  \n",
    ">Continue  \n",
    ">Pass"
   ]
  },
  {
   "cell_type": "code",
   "execution_count": 4,
   "id": "284c303f-d54f-4038-ab97-db01cb5add74",
   "metadata": {},
   "outputs": [
    {
     "name": "stdout",
     "output_type": "stream",
     "text": [
      "A\n",
      "l\n",
      "a\n",
      "m\n"
     ]
    }
   ],
   "source": [
    "# Break statement\n",
    "for letter in \"Alamin\":\n",
    "    if letter == \"i\":\n",
    "        break\n",
    "    print(letter)"
   ]
  },
  {
   "cell_type": "code",
   "execution_count": 5,
   "id": "127e31b4-c30a-4676-a0bb-0ff3a73e40b5",
   "metadata": {},
   "outputs": [
    {
     "name": "stdout",
     "output_type": "stream",
     "text": [
      "A\n",
      "l\n",
      "a\n",
      "m\n",
      "n\n"
     ]
    }
   ],
   "source": [
    "#Continue statement\n",
    "for letter in \"Alamin\":\n",
    "    if letter == \"i\":\n",
    "        continue\n",
    "    print(letter)"
   ]
  },
  {
   "cell_type": "code",
   "execution_count": 9,
   "id": "11d8121f-8c97-4194-a0b0-89ff7e0cdac9",
   "metadata": {},
   "outputs": [
    {
     "name": "stdout",
     "output_type": "stream",
     "text": [
      "pass block\n",
      "pass block\n",
      "pass block\n",
      "pass block\n",
      "i\n",
      "pass block\n",
      "pass block\n"
     ]
    }
   ],
   "source": [
    "#pass statement\n",
    "for letter in \"Alamin\":\n",
    "    if letter == \"i\":\n",
    "        pass\n",
    "        print(letter)\n",
    "    \n",
    "     "
   ]
  },
  {
   "cell_type": "code",
   "execution_count": null,
   "id": "f543a4e0-3380-4722-8988-7402e2f948a6",
   "metadata": {},
   "outputs": [],
   "source": []
  }
 ],
 "metadata": {
  "kernelspec": {
   "display_name": "Python 3 (ipykernel)",
   "language": "python",
   "name": "python3"
  },
  "language_info": {
   "codemirror_mode": {
    "name": "ipython",
    "version": 3
   },
   "file_extension": ".py",
   "mimetype": "text/x-python",
   "name": "python",
   "nbconvert_exporter": "python",
   "pygments_lexer": "ipython3",
   "version": "3.13.7"
  }
 },
 "nbformat": 4,
 "nbformat_minor": 5
}
